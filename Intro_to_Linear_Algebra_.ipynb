{
  "nbformat": 4,
  "nbformat_minor": 0,
  "metadata": {
    "colab": {
      "provenance": [],
      "authorship_tag": "ABX9TyOMfU6TX4WFLEVyjXOXZ7df",
      "include_colab_link": true
    },
    "kernelspec": {
      "name": "python3",
      "display_name": "Python 3"
    },
    "language_info": {
      "name": "python"
    }
  },
  "cells": [
    {
      "cell_type": "markdown",
      "metadata": {
        "id": "view-in-github",
        "colab_type": "text"
      },
      "source": [
        "<a href=\"https://colab.research.google.com/github/wcolglazier/Additional-AI-Class-Content/blob/main/Intro_to_Linear_Algebra_.ipynb\" target=\"_parent\"><img src=\"https://colab.research.google.com/assets/colab-badge.svg\" alt=\"Open In Colab\"/></a>"
      ]
    },
    {
      "cell_type": "markdown",
      "source": [],
      "metadata": {
        "id": "v32AE6dgrMTx"
      }
    },
    {
      "cell_type": "markdown",
      "source": [
        "$$\n",
        "\\begin{bmatrix} 2 \\end{bmatrix} + \\begin{bmatrix} 3 \\end{bmatrix} = \\begin{bmatrix} 5 \\end{bmatrix}\n",
        "$$\n"
      ],
      "metadata": {
        "id": "scxlZj08uWv4"
      }
    },
    {
      "cell_type": "markdown",
      "source": [
        "\\begin{bmatrix}\n",
        "1 & 2 \\\\\n",
        "3 & 4\n",
        "\\end{bmatrix}\n"
      ],
      "metadata": {
        "id": "FDSQI430ri8q"
      }
    },
    {
      "cell_type": "markdown",
      "source": [
        "\n",
        "\n",
        "$$\n",
        "\\displaystyle 2 + 3 = 5\n",
        "$$\n",
        "\n"
      ],
      "metadata": {
        "id": "aw_bjvHcsczX"
      }
    },
    {
      "cell_type": "markdown",
      "source": [
        "$$\n",
        "\\displaystyle 4 \\times 3 = 12\n",
        "$$\n"
      ],
      "metadata": {
        "id": "JbRVRftXtl_X"
      }
    },
    {
      "cell_type": "code",
      "source": [
        "\\[\n",
        "2 + 3 = 5\n",
        "\\]\n"
      ],
      "metadata": {
        "id": "73Tvc-48sciU"
      },
      "execution_count": null,
      "outputs": []
    },
    {
      "cell_type": "markdown",
      "source": [
        "\\begin{bmatrix}\n",
        "a_{11} & a_{12} & a_{13} \\\\\n",
        "a_{21} & a_{22} & a_{23} \\\\\n",
        "a_{31} & a_{32} & a_{33}\n",
        "\\end{bmatrix}"
      ],
      "metadata": {
        "id": "CziKNESar4Aj"
      }
    },
    {
      "cell_type": "code",
      "source": [],
      "metadata": {
        "id": "GlwxD4G8rMLo"
      },
      "execution_count": null,
      "outputs": []
    }
  ]
}