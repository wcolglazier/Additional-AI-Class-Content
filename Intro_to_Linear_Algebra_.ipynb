{
  "nbformat": 4,
  "nbformat_minor": 0,
  "metadata": {
    "colab": {
      "provenance": [],
      "authorship_tag": "ABX9TyPxQAtLxsRGqSpjHhbid1VN",
      "include_colab_link": true
    },
    "kernelspec": {
      "name": "python3",
      "display_name": "Python 3"
    },
    "language_info": {
      "name": "python"
    }
  },
  "cells": [
    {
      "cell_type": "markdown",
      "metadata": {
        "id": "view-in-github",
        "colab_type": "text"
      },
      "source": [
        "<a href=\"https://colab.research.google.com/github/wcolglazier/Additional-AI-Class-Content/blob/main/Intro_to_Linear_Algebra_.ipynb\" target=\"_parent\"><img src=\"https://colab.research.google.com/assets/colab-badge.svg\" alt=\"Open In Colab\"/></a>"
      ]
    },
    {
      "cell_type": "markdown",
      "source": [
        "We can start with two very simple systems that everyone can understand."
      ],
      "metadata": {
        "id": "v32AE6dgrMTx"
      }
    },
    {
      "cell_type": "markdown",
      "source": [
        "\n",
        "\n",
        "$$\n",
        "\\displaystyle 2 + 3 = 5\n",
        "$$\n",
        "\\\n",
        "$$\n",
        "\\displaystyle 4 \\times 3 = 12\n",
        "$$\n",
        "\n"
      ],
      "metadata": {
        "id": "aw_bjvHcsczX"
      }
    },
    {
      "cell_type": "markdown",
      "source": [
        "We can represent these numbers in a box or a matrix, and the mathematical operations remain the same."
      ],
      "metadata": {
        "id": "CfbfIcDU6n3G"
      }
    },
    {
      "cell_type": "markdown",
      "source": [
        "$$\n",
        "\\begin{bmatrix} 2 \\end{bmatrix} + \\begin{bmatrix} 3 \\end{bmatrix} = \\begin{bmatrix} 5 \\end{bmatrix}\n",
        "$$\n",
        "\\\n",
        "$$\n",
        "\\begin{bmatrix} 4 \\end{bmatrix} \\times \\begin{bmatrix} 3 \\end{bmatrix} = \\begin{bmatrix} 12 \\end{bmatrix}\n",
        "$$\n"
      ],
      "metadata": {
        "id": "scxlZj08uWv4"
      }
    },
    {
      "cell_type": "markdown",
      "source": [
        "What is exciting about representing numbers in boxes like this or in a matrix is how we can add, multiply, or combine systems."
      ],
      "metadata": {
        "id": "uKpU05S_0TJl"
      }
    },
    {
      "cell_type": "markdown",
      "source": [
        "$$\n",
        "\\begin{bmatrix} 4 \\\\ 3 \\end{bmatrix}\n",
        "+\n",
        "\\begin{bmatrix} 3 \\\\ 2 \\end{bmatrix}\n",
        "=\n",
        "\\begin{bmatrix} 7 \\\\ 5 \\end{bmatrix}\n",
        "$$\n"
      ],
      "metadata": {
        "id": "rC0Lb1JPLNTR"
      }
    },
    {
      "cell_type": "markdown",
      "source": [
        "We can build these systems up to what we would call a 2 by 2 matrix, but they can be as big as you want."
      ],
      "metadata": {
        "id": "OUBqAFkb2K_8"
      }
    },
    {
      "cell_type": "markdown",
      "source": [
        "$$\n",
        "\\begin{bmatrix} 1 & 2 \\\\ 3 & 4 \\end{bmatrix}\n",
        "+\n",
        "\\begin{bmatrix} 1 & 2 \\\\ 3 & 4 \\end{bmatrix}\n",
        "=\n",
        "\\begin{bmatrix} 2 & 4 \\\\ 6 & 8 \\end{bmatrix}\n",
        "$$\n"
      ],
      "metadata": {
        "id": "aYzftG9z2-R3"
      }
    },
    {
      "cell_type": "markdown",
      "source": [
        "To understand it better, it might be easier to think about it like this as well."
      ],
      "metadata": {
        "id": "y6sYfZtK3Xq9"
      }
    },
    {
      "cell_type": "markdown",
      "source": [
        "\n",
        "\n",
        "$$\n",
        "\\displaystyle 1 + 1 = 2\n",
        "$$\n",
        "\n",
        "$$\n",
        "\\displaystyle 2 + 2 = 4\n",
        "$$\n",
        "\n",
        "$$\n",
        "\\displaystyle 3 + 3 = 6\n",
        "$$\n",
        "\n",
        "\n",
        "$$\n",
        "\\displaystyle 4 + 4 = 8\n",
        "$$\n",
        "\n"
      ],
      "metadata": {
        "id": "K1HbyFCOxJao"
      }
    },
    {
      "cell_type": "markdown",
      "source": [
        "$$\n",
        "\\text{In computer science, we can assign values such as } x = 2 \\text{ and } y = 8, \\text{ and then compute } x + y = 10.\n",
        "$$\n",
        "\n",
        "$$\n",
        "\\text{Similarly, we can perform operations with matrices:}\n",
        "$$\n",
        "\\\n",
        "$$\n",
        "A =\n",
        "\\begin{bmatrix}\n",
        "1 & 2 \\\\\n",
        "3 & 4\n",
        "\\end{bmatrix} \\quad\n",
        "B =\n",
        "\\begin{bmatrix}\n",
        "5 & 6 \\\\\n",
        "7 & 8\n",
        "\\end{bmatrix}\n",
        "$$\n",
        "\n",
        "$$\n",
        "\\text{We can add these matrices together just as we do with individual numbers.}\n",
        "$$\n",
        "\n"
      ],
      "metadata": {
        "id": "vOKcjHjK2yA4"
      }
    },
    {
      "cell_type": "code",
      "source": [],
      "metadata": {
        "id": "GlwxD4G8rMLo"
      },
      "execution_count": null,
      "outputs": []
    },
    {
      "cell_type": "markdown",
      "source": [
        "\n",
        "\\\n",
        "$$\n",
        "A \\times B =\n",
        "\\begin{bmatrix}\n",
        "1(5) + 2(7) & 1(6) + 2(8) \\\\\n",
        "3(5) + 4(7) & 3(6) + 4(8)\n",
        "\\end{bmatrix}\n",
        "=\n",
        "\\begin{bmatrix}\n",
        "5 + 14 & 6 + 16 \\\\\n",
        "15 + 28 & 18 + 32\n",
        "\\end{bmatrix}\n",
        "=\n",
        "\\begin{bmatrix}\n",
        "19 & 22 \\\\\n",
        "43 & 50\n",
        "\\end{bmatrix}\n",
        "$$\n"
      ],
      "metadata": {
        "id": "gLsrM9wB6_ov"
      }
    }
  ]
}