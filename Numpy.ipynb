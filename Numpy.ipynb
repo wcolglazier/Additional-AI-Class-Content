{
  "nbformat": 4,
  "nbformat_minor": 0,
  "metadata": {
    "colab": {
      "provenance": [],
      "authorship_tag": "ABX9TyM7AbhpgVUiT39Dz6OHoOeo",
      "include_colab_link": true
    },
    "kernelspec": {
      "name": "python3",
      "display_name": "Python 3"
    },
    "language_info": {
      "name": "python"
    }
  },
  "cells": [
    {
      "cell_type": "markdown",
      "metadata": {
        "id": "view-in-github",
        "colab_type": "text"
      },
      "source": [
        "<a href=\"https://colab.research.google.com/github/wcolglazier/Additional-AI-Class-Content/blob/main/Numpy.ipynb\" target=\"_parent\"><img src=\"https://colab.research.google.com/assets/colab-badge.svg\" alt=\"Open In Colab\"/></a>"
      ]
    },
    {
      "cell_type": "code",
      "execution_count": 81,
      "metadata": {
        "id": "JyFuGlTWi91P"
      },
      "outputs": [],
      "source": [
        "import numpy as np"
      ]
    },
    {
      "cell_type": "markdown",
      "source": [
        "NumPy is a Python library that helps us efficiently stores data and provides built in functions to make working with that data faster and more convenient."
      ],
      "metadata": {
        "id": "T9UY7lvakWYy"
      }
    },
    {
      "cell_type": "code",
      "source": [
        "data_one = np.array([1, 2, 3])\n",
        "data_two = np.array([4, 5, 6])"
      ],
      "metadata": {
        "id": "NXSEnhqanMsu"
      },
      "execution_count": 82,
      "outputs": []
    },
    {
      "cell_type": "markdown",
      "source": [
        "Data is organized in row form, known as a NumPy array."
      ],
      "metadata": {
        "id": "ovHhUopALDjn"
      }
    },
    {
      "cell_type": "code",
      "source": [
        "sum = data_one + data_two\n",
        "print(sum)"
      ],
      "metadata": {
        "colab": {
          "base_uri": "https://localhost:8080/"
        },
        "id": "tSotPABQLETN",
        "outputId": "642695f0-2204-4d32-d435-ac09a1a8e2fc"
      },
      "execution_count": 83,
      "outputs": [
        {
          "output_type": "stream",
          "name": "stdout",
          "text": [
            "[5 7 9]\n"
          ]
        }
      ]
    },
    {
      "cell_type": "markdown",
      "source": [
        "We can add arrays together as follows:\n",
        "\n",
        "\n",
        "\\begin{array}{ccc}\n",
        "1 & + & 4 & = & 5 \\\\\n",
        "2 & + & 5 & = & 7 \\\\\n",
        "3 & + & 6 & = & 9 \\\\\n",
        "\\end{array}\n",
        "\n",
        "\n",
        "\n",
        "\n",
        "\n",
        "\n"
      ],
      "metadata": {
        "id": "g5bjNHjib-m5"
      }
    },
    {
      "cell_type": "code",
      "source": [
        "product = data_one * data_two\n",
        "print(product)"
      ],
      "metadata": {
        "colab": {
          "base_uri": "https://localhost:8080/"
        },
        "id": "u9ik9S4hNwnR",
        "outputId": "b00a6436-0680-4b65-81b5-ed5b7e41f6bf"
      },
      "execution_count": 84,
      "outputs": [
        {
          "output_type": "stream",
          "name": "stdout",
          "text": [
            "[ 4 10 18]\n"
          ]
        }
      ]
    },
    {
      "cell_type": "markdown",
      "source": [
        "We can also multiply arrays together as follows:\n",
        "\n",
        "\n",
        "\\begin{array}{cccc}\n",
        "1 & \\times & 4 & = & 4 \\\\\n",
        "2 & \\times & 5 & = & 10 \\\\\n",
        "3 & \\times & 6 & = & 18 \\\\\n",
        "\\end{array}\n",
        "\n"
      ],
      "metadata": {
        "id": "cyULqzU3c7Sg"
      }
    },
    {
      "cell_type": "code",
      "source": [
        "total = np.sum(data_two)\n",
        "print(total)"
      ],
      "metadata": {
        "colab": {
          "base_uri": "https://localhost:8080/"
        },
        "id": "tvKoJl6FObcB",
        "outputId": "69c5b877-5ddd-4943-c5c3-3d0e4c5084a9"
      },
      "execution_count": 85,
      "outputs": [
        {
          "output_type": "stream",
          "name": "stdout",
          "text": [
            "15\n"
          ]
        }
      ]
    },
    {
      "cell_type": "markdown",
      "source": [
        "We can add all numbers toghther in an array with the np.sum function which looks like:\n",
        "\n",
        "\n",
        "\\begin{array}{ccc}\n",
        "1 & + & 2 & + & 3 &= & 6 \\\\\n",
        "\\end{array}\n",
        "\n",
        "\n",
        "\n",
        "\n",
        "\n",
        "\n"
      ],
      "metadata": {
        "id": "uGg4OphkdUVb"
      }
    },
    {
      "cell_type": "code",
      "source": [
        "total = np.sum(data_one * data_two)\n",
        "print(total)"
      ],
      "metadata": {
        "colab": {
          "base_uri": "https://localhost:8080/"
        },
        "id": "9zuaV-Vrbm_F",
        "outputId": "58c8f526-fe5d-40c5-b51f-68fe2d9b38ad"
      },
      "execution_count": 86,
      "outputs": [
        {
          "output_type": "stream",
          "name": "stdout",
          "text": [
            "32\n"
          ]
        }
      ]
    },
    {
      "cell_type": "markdown",
      "source": [
        "\\begin{array}{cccc}\n",
        "1 & \\times & 4 & = & 4 \\\\\n",
        "2 & \\times & 5 & = & 10 \\\\\n",
        "3 & \\times & 6 & = & 18 \\\\\n",
        "\\end{array}\n",
        "\n",
        "\\begin{array}{ccc}\n",
        "4 & + & 10 & + & 18 &= & 32 \\\\\n",
        "\\end{array}\n",
        "\n",
        "\\\n",
        "This is also known as the dot product, which is very important when deriving information from data, as shown below."
      ],
      "metadata": {
        "id": "Hn1MPRFQeIg0"
      }
    },
    {
      "cell_type": "markdown",
      "source": [
        "$$\\mathbf{a} = \\langle a_1, a_2, a_3 \\rangle, \\quad \\mathbf{b} = \\langle b_1, b_2, b_3 \\rangle$$\n",
        "\n",
        "$$\\mathbf{a} \\cdot \\mathbf{b} = a_1 b_1 + a_2 b_2 + a_3 b_3$$\n",
        "\n",
        "We can also achieve this using the np.dot function."
      ],
      "metadata": {
        "id": "VO_HT0h0jxAg"
      }
    },
    {
      "cell_type": "code",
      "source": [
        "dot_product = np.dot(data_one, data_two)\n",
        "print(dot_product)\n"
      ],
      "metadata": {
        "colab": {
          "base_uri": "https://localhost:8080/"
        },
        "id": "9slJHoF7N_Ie",
        "outputId": "b0101e09-07a1-4dc1-9b00-efa40809956e"
      },
      "execution_count": 87,
      "outputs": [
        {
          "output_type": "stream",
          "name": "stdout",
          "text": [
            "32\n"
          ]
        }
      ]
    },
    {
      "cell_type": "markdown",
      "source": [
        "Previously, we looked at data in a single column, also known as a 1D array. For more complex use cases, we often use 2D arrays, which are essentially data tables with rows and columns, as shown below."
      ],
      "metadata": {
        "id": "fNd-LMvhQ0pV"
      }
    },
    {
      "cell_type": "markdown",
      "source": [
        "![1*m6w9RoOMnWxiQLpCLrY3IA.jpeg](data:image/jpeg;base64,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)"
      ],
      "metadata": {
        "id": "LmQZ_6p1tWKz"
      }
    },
    {
      "cell_type": "code",
      "source": [
        "\n",
        "data_one_2D = np.array([[1, 2],\n",
        "                        [4, 9]])\n",
        "\n",
        "data_two_2D = np.array([[10, 4],\n",
        "                        [9, 8]])\n"
      ],
      "metadata": {
        "id": "J58ueNwgTq23"
      },
      "execution_count": 88,
      "outputs": []
    },
    {
      "cell_type": "code",
      "source": [
        "result = data_one_2D + data_two_2D\n",
        "\n",
        "print(result)"
      ],
      "metadata": {
        "colab": {
          "base_uri": "https://localhost:8080/"
        },
        "id": "Np0BgSH87U3-",
        "outputId": "6d60962b-4cf4-47bb-f8f9-8313d1b449f0"
      },
      "execution_count": 89,
      "outputs": [
        {
          "output_type": "stream",
          "name": "stdout",
          "text": [
            "[[11  6]\n",
            " [13 17]]\n"
          ]
        }
      ]
    },
    {
      "cell_type": "markdown",
      "source": [
        "You can add or multiply 2D arrays just like 1D arrays; simply perform the operation on the corresponding elements in each array.\n",
        "\n",
        "\\begin{array}{ccc}\n",
        "1 & + & 10 & = & 11 \\\\\n",
        "2 & + & 4 & = & 6 \\\\\n",
        "4 & + & 9 & = & 13 \\\\\n",
        "9 & + & 8 & = & 17 \\\\\n",
        "\\end{array}\n",
        "\n",
        "\n"
      ],
      "metadata": {
        "id": "PLlAr1cwJlcL"
      }
    },
    {
      "cell_type": "code",
      "source": [
        "result = data_one_2D * data_two_2D\n",
        "\n",
        "print(result)"
      ],
      "metadata": {
        "colab": {
          "base_uri": "https://localhost:8080/"
        },
        "id": "SAlptdMKIREV",
        "outputId": "5d406ef3-c740-4080-b0a6-a6e1426b678c"
      },
      "execution_count": 90,
      "outputs": [
        {
          "output_type": "stream",
          "name": "stdout",
          "text": [
            "[[10  8]\n",
            " [36 72]]\n"
          ]
        }
      ]
    },
    {
      "cell_type": "markdown",
      "source": [
        "\\begin{array}{cccc}\n",
        "1 & \\times & 10 & = & 10 \\\\\n",
        "2 & \\times & 4 & = & 8 \\\\\n",
        "4 & \\times & 9 & = & 36 \\\\\n",
        "9 & \\times & 8 & = & 72 \\\\\n",
        "\\end{array}"
      ],
      "metadata": {
        "id": "oMnFDcx7TG6X"
      }
    },
    {
      "cell_type": "code",
      "source": [
        "result = np.dot(data_one_2D, data_two_2D)\n",
        "\n",
        "print(result)"
      ],
      "metadata": {
        "colab": {
          "base_uri": "https://localhost:8080/"
        },
        "id": "HsGfOgrrvEVf",
        "outputId": "1108a361-906e-4930-b365-e37292d1425c"
      },
      "execution_count": 91,
      "outputs": [
        {
          "output_type": "stream",
          "name": "stdout",
          "text": [
            "[[ 28  20]\n",
            " [121  88]]\n"
          ]
        }
      ]
    },
    {
      "cell_type": "markdown",
      "source": [
        "Dot prodcut on 2D array are foundational to almost everything in Machine Learning can also be done like shown below which is slighlty different from 1D arrays but is shown below.\n",
        "\n",
        "\\\n",
        "\n",
        "$\n",
        "w[i, j] = \\sum_{k} \\text{Data_one_2D}[i, k] \\cdot \\text{Data_two_2D}[k, j]\n",
        "$\n"
      ],
      "metadata": {
        "id": "msYUoXd6UUBQ"
      }
    },
    {
      "cell_type": "markdown",
      "source": [
        "#### Row 1:\n",
        "$$\n",
        "w[0, 0] = (1 \\cdot 10) + (2 \\cdot 9) = 10 + 18 = 28\n",
        "$$\n",
        "$$\n",
        "w[0, 1] = (1 \\cdot 4) + (2 \\cdot 8) = 4 + 16 = 20\n",
        "$$\n",
        "\n",
        "#### Row 2:\n",
        "$$\n",
        "w[1, 0] = (4 \\cdot 10) + (9 \\cdot 9) = 40 + 81 = 121\n",
        "$$\n",
        "$$\n",
        "w[1, 1] = (4 \\cdot 4) + (9 \\cdot 8) = 16 + 72 = 88\n",
        "$$\n"
      ],
      "metadata": {
        "id": "Z9IubOF8XJxt"
      }
    }
  ]
}