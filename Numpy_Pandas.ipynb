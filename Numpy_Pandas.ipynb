{
  "nbformat": 4,
  "nbformat_minor": 0,
  "metadata": {
    "colab": {
      "provenance": [],
      "authorship_tag": "ABX9TyOUvTKrmjDLu9fcN0O/OlUm",
      "include_colab_link": true
    },
    "kernelspec": {
      "name": "python3",
      "display_name": "Python 3"
    },
    "language_info": {
      "name": "python"
    }
  },
  "cells": [
    {
      "cell_type": "markdown",
      "metadata": {
        "id": "view-in-github",
        "colab_type": "text"
      },
      "source": [
        "<a href=\"https://colab.research.google.com/github/wcolglazier/Additional-AI-Class-Content/blob/main/Numpy_Pandas.ipynb\" target=\"_parent\"><img src=\"https://colab.research.google.com/assets/colab-badge.svg\" alt=\"Open In Colab\"/></a>"
      ]
    },
    {
      "cell_type": "code",
      "execution_count": 59,
      "metadata": {
        "id": "JyFuGlTWi91P"
      },
      "outputs": [],
      "source": [
        "import numpy as np"
      ]
    },
    {
      "cell_type": "markdown",
      "source": [
        "NumPy is a Python library that helps us efficiently stores data and provides built in functions to make working with that data faster and more convenient."
      ],
      "metadata": {
        "id": "T9UY7lvakWYy"
      }
    },
    {
      "cell_type": "code",
      "source": [
        "data_one = np.array([1, 2, 3])\n",
        "data_two = np.array([4, 5, 6])"
      ],
      "metadata": {
        "id": "NXSEnhqanMsu"
      },
      "execution_count": 60,
      "outputs": []
    },
    {
      "cell_type": "markdown",
      "source": [
        "Data is organized in row form, known as a NumPy array."
      ],
      "metadata": {
        "id": "ovHhUopALDjn"
      }
    },
    {
      "cell_type": "code",
      "source": [
        "sum = data_one + data_two\n",
        "print(sum)"
      ],
      "metadata": {
        "colab": {
          "base_uri": "https://localhost:8080/"
        },
        "id": "tSotPABQLETN",
        "outputId": "497f173d-9854-40ee-e1b7-88729907c6e8"
      },
      "execution_count": 61,
      "outputs": [
        {
          "output_type": "stream",
          "name": "stdout",
          "text": [
            "[5 7 9]\n"
          ]
        }
      ]
    },
    {
      "cell_type": "code",
      "source": [
        "product = data_one * data_two\n",
        "print(product)"
      ],
      "metadata": {
        "colab": {
          "base_uri": "https://localhost:8080/"
        },
        "id": "u9ik9S4hNwnR",
        "outputId": "2e9eba38-0081-4bb5-c92a-e92e02e85f65"
      },
      "execution_count": 62,
      "outputs": [
        {
          "output_type": "stream",
          "name": "stdout",
          "text": [
            "[ 4 10 18]\n"
          ]
        }
      ]
    },
    {
      "cell_type": "code",
      "source": [
        "total = np.sum(data_one * data_two)\n",
        "print(total)"
      ],
      "metadata": {
        "colab": {
          "base_uri": "https://localhost:8080/"
        },
        "id": "tvKoJl6FObcB",
        "outputId": "34069758-9a73-4a18-89db-16e380bfdad6"
      },
      "execution_count": 63,
      "outputs": [
        {
          "output_type": "stream",
          "name": "stdout",
          "text": [
            "32\n"
          ]
        }
      ]
    },
    {
      "cell_type": "code",
      "source": [
        "dot_product = np.dot(data_one, data_two)\n",
        "print(dot_product)\n"
      ],
      "metadata": {
        "colab": {
          "base_uri": "https://localhost:8080/"
        },
        "id": "9slJHoF7N_Ie",
        "outputId": "2c7e15dd-1cbd-49f9-8f32-e6994f1763c3"
      },
      "execution_count": 64,
      "outputs": [
        {
          "output_type": "stream",
          "name": "stdout",
          "text": [
            "32\n"
          ]
        }
      ]
    },
    {
      "cell_type": "markdown",
      "source": [
        "2d data"
      ],
      "metadata": {
        "id": "fNd-LMvhQ0pV"
      }
    },
    {
      "cell_type": "code",
      "source": [
        "Data_one_2D = [[1, 2, 3],\n",
        "          [4, 5, 6],\n",
        "          [3, 2, 1]]\n",
        "\n",
        "\n",
        "Data_two_2D = [[10, 9, 8],\n",
        "          [7, 8, 9],\n",
        "          [10, 11, 12]]\n"
      ],
      "metadata": {
        "id": "t6stC5qFO7Wy"
      },
      "execution_count": 65,
      "outputs": []
    },
    {
      "cell_type": "code",
      "source": [
        "w = np.dot(Data_one_2D, Data_two_2D)\n",
        "\n",
        "print(w)"
      ],
      "metadata": {
        "colab": {
          "base_uri": "https://localhost:8080/"
        },
        "id": "YbDGJ8cMR24T",
        "outputId": "4b0af2a0-0f3f-49f9-cc0a-fcbce2cca1a8"
      },
      "execution_count": 66,
      "outputs": [
        {
          "output_type": "stream",
          "name": "stdout",
          "text": [
            "[[ 54  58  62]\n",
            " [135 142 149]\n",
            " [ 54  54  54]]\n"
          ]
        }
      ]
    },
    {
      "cell_type": "code",
      "source": [
        "Data_one_2D = [[1, 2],\n",
        "          [4, 5],\n",
        "]\n",
        "\n",
        "\n",
        "Data_two_2D = [[10, 9],\n",
        "          [7, 8],\n",
        "]\n",
        "\n",
        "\n",
        "w = np.dot(Data_one_2D, Data_two_2D)\n",
        "\n",
        "print(w)"
      ],
      "metadata": {
        "colab": {
          "base_uri": "https://localhost:8080/"
        },
        "id": "J58ueNwgTq23",
        "outputId": "afabe8c2-763c-4551-fe00-7d3223caba95"
      },
      "execution_count": 73,
      "outputs": [
        {
          "output_type": "stream",
          "name": "stdout",
          "text": [
            "[[24 25]\n",
            " [75 76]]\n"
          ]
        }
      ]
    },
    {
      "cell_type": "markdown",
      "source": [
        "$\n",
        "w[i, j] = \\sum_{k} \\text{Data_one_2D}[i, k] \\cdot \\text{Data_two_2D}[k, j]\n",
        "$\n"
      ],
      "metadata": {
        "id": "msYUoXd6UUBQ"
      }
    },
    {
      "cell_type": "markdown",
      "source": [
        "\n",
        "\n",
        "#### Row 1:\n",
        "\n",
        "$$\n",
        "w[0, 0] = (1 \\cdot 10) + (2 \\cdot 7) = 10 + 14 = 24\n",
        "$$\n",
        "$$\n",
        "w[0, 1] = (1 \\cdot 9) + (2 \\cdot 8) = 9 + 16 = 25\n",
        "$$\n",
        "\n",
        "#### Row 2:\n",
        "$$\n",
        "w[1, 0] = (4 \\cdot 10) + (5 \\cdot 7) = 40 + 35 = 75\n",
        "$$\n",
        "$$\n",
        "w[1, 1] = (4 \\cdot 9) + (5 \\cdot 8) = 36 + 40 = 76\n",
        "$$\n"
      ],
      "metadata": {
        "id": "Z9IubOF8XJxt"
      }
    }
  ]
}