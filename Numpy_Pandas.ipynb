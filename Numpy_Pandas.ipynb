{
  "nbformat": 4,
  "nbformat_minor": 0,
  "metadata": {
    "colab": {
      "provenance": [],
      "authorship_tag": "ABX9TyMv6CGrhqPv/vh4aNwGA2TR",
      "include_colab_link": true
    },
    "kernelspec": {
      "name": "python3",
      "display_name": "Python 3"
    },
    "language_info": {
      "name": "python"
    }
  },
  "cells": [
    {
      "cell_type": "markdown",
      "metadata": {
        "id": "view-in-github",
        "colab_type": "text"
      },
      "source": [
        "<a href=\"https://colab.research.google.com/github/wcolglazier/Additional-AI-Class-Content/blob/main/Numpy_Pandas.ipynb\" target=\"_parent\"><img src=\"https://colab.research.google.com/assets/colab-badge.svg\" alt=\"Open In Colab\"/></a>"
      ]
    },
    {
      "cell_type": "code",
      "execution_count": 1,
      "metadata": {
        "id": "JyFuGlTWi91P"
      },
      "outputs": [],
      "source": [
        "import numpy as np"
      ]
    },
    {
      "cell_type": "markdown",
      "source": [
        "NumPy is a Python library that helps us efficiently stores data and provides built in functions to make working with that data faster and more convenient."
      ],
      "metadata": {
        "id": "T9UY7lvakWYy"
      }
    },
    {
      "cell_type": "code",
      "source": [],
      "metadata": {
        "id": "NXSEnhqanMsu"
      },
      "execution_count": null,
      "outputs": []
    }
  ]
}