{
  "nbformat": 4,
  "nbformat_minor": 0,
  "metadata": {
    "colab": {
      "provenance": [],
      "authorship_tag": "ABX9TyNJTZOiGOlp6YNOtOQUQ2d1",
      "include_colab_link": true
    },
    "kernelspec": {
      "name": "python3",
      "display_name": "Python 3"
    },
    "language_info": {
      "name": "python"
    }
  },
  "cells": [
    {
      "cell_type": "markdown",
      "metadata": {
        "id": "view-in-github",
        "colab_type": "text"
      },
      "source": [
        "<a href=\"https://colab.research.google.com/github/wcolglazier/Additional-AI-Class-Content/blob/main/Numpy_Pandas.ipynb\" target=\"_parent\"><img src=\"https://colab.research.google.com/assets/colab-badge.svg\" alt=\"Open In Colab\"/></a>"
      ]
    },
    {
      "cell_type": "code",
      "execution_count": 3,
      "metadata": {
        "id": "JyFuGlTWi91P"
      },
      "outputs": [],
      "source": [
        "import numpy as np"
      ]
    },
    {
      "cell_type": "markdown",
      "source": [
        "NumPy is a Python library that helps us efficiently stores data and provides built in functions to make working with that data faster and more convenient."
      ],
      "metadata": {
        "id": "T9UY7lvakWYy"
      }
    },
    {
      "cell_type": "code",
      "source": [
        "data_one = np.array([1, 2, 3])\n",
        "data_two = np.array([4, 5, 6])"
      ],
      "metadata": {
        "id": "NXSEnhqanMsu"
      },
      "execution_count": 4,
      "outputs": []
    },
    {
      "cell_type": "markdown",
      "source": [
        "Data is organized in row form, known as a NumPy array."
      ],
      "metadata": {
        "id": "ovHhUopALDjn"
      }
    },
    {
      "cell_type": "code",
      "source": [
        "sum = data_one + data_two\n",
        "print(sum)"
      ],
      "metadata": {
        "colab": {
          "base_uri": "https://localhost:8080/"
        },
        "id": "tSotPABQLETN",
        "outputId": "7e00a4b1-c9c1-4e70-d5f5-6d4e7b030d02"
      },
      "execution_count": 5,
      "outputs": [
        {
          "output_type": "stream",
          "name": "stdout",
          "text": [
            "[5 7 9]\n"
          ]
        }
      ]
    },
    {
      "cell_type": "markdown",
      "source": [
        "We can add arrays together as follows:\n",
        "\n",
        "\n",
        "\\begin{array}{ccc}\n",
        "1 & + & 4 & = & 5 \\\\\n",
        "2 & + & 5 & = & 7 \\\\\n",
        "3 & + & 6 & = & 9 \\\\\n",
        "\\end{array}\n",
        "\n",
        "\n",
        "\n",
        "\n",
        "\n",
        "\n"
      ],
      "metadata": {
        "id": "g5bjNHjib-m5"
      }
    },
    {
      "cell_type": "code",
      "source": [
        "product = data_one * data_two\n",
        "print(product)"
      ],
      "metadata": {
        "colab": {
          "base_uri": "https://localhost:8080/"
        },
        "id": "u9ik9S4hNwnR",
        "outputId": "c3ca9f8c-eaa2-487a-c0eb-e672817cca2c"
      },
      "execution_count": 6,
      "outputs": [
        {
          "output_type": "stream",
          "name": "stdout",
          "text": [
            "[ 4 10 18]\n"
          ]
        }
      ]
    },
    {
      "cell_type": "markdown",
      "source": [
        "We can also multiply arrays together as follows:\n",
        "\n",
        "\n",
        "\\begin{array}{cccc}\n",
        "1 & \\times & 4 & = & 4 \\\\\n",
        "2 & \\times & 5 & = & 10 \\\\\n",
        "3 & \\times & 6 & = & 18 \\\\\n",
        "\\end{array}\n",
        "\n"
      ],
      "metadata": {
        "id": "cyULqzU3c7Sg"
      }
    },
    {
      "cell_type": "code",
      "source": [
        "total = np.sum(data_two)\n",
        "print(total)"
      ],
      "metadata": {
        "colab": {
          "base_uri": "https://localhost:8080/"
        },
        "id": "tvKoJl6FObcB",
        "outputId": "390ae6b2-b7db-47c2-b52b-0d64cfa8801b"
      },
      "execution_count": 7,
      "outputs": [
        {
          "output_type": "stream",
          "name": "stdout",
          "text": [
            "6\n"
          ]
        }
      ]
    },
    {
      "cell_type": "markdown",
      "source": [
        "We can add all numbers toghther in an array with the np.sum function which looks like:\n",
        "\n",
        "\n",
        "\\begin{array}{ccc}\n",
        "1 & + & 2 & + & 3 &= & 6 \\\\\n",
        "\\end{array}\n",
        "\n",
        "\n",
        "\n",
        "\n",
        "\n",
        "\n"
      ],
      "metadata": {
        "id": "uGg4OphkdUVb"
      }
    },
    {
      "cell_type": "code",
      "source": [
        "total = np.sum(data_one * data_two)\n",
        "print(total)"
      ],
      "metadata": {
        "colab": {
          "base_uri": "https://localhost:8080/"
        },
        "id": "9zuaV-Vrbm_F",
        "outputId": "017f5016-be31-49be-92ae-71f0aa3fdde4"
      },
      "execution_count": 8,
      "outputs": [
        {
          "output_type": "stream",
          "name": "stdout",
          "text": [
            "32\n"
          ]
        }
      ]
    },
    {
      "cell_type": "markdown",
      "source": [
        "\\begin{array}{cccc}\n",
        "1 & \\times & 4 & = & 4 \\\\\n",
        "2 & \\times & 5 & = & 10 \\\\\n",
        "3 & \\times & 6 & = & 18 \\\\\n",
        "\\end{array}\n",
        "\n",
        "\\begin{array}{ccc}\n",
        "4 & + & 10 & + & 18 &= & 32 \\\\\n",
        "\\end{array}\n",
        "\n",
        "\\\\\n",
        "This is also known as the dot product which is very important when tried to derive infomation from data also seen as"
      ],
      "metadata": {
        "id": "Hn1MPRFQeIg0"
      }
    },
    {
      "cell_type": "markdown",
      "source": [
        "$\\mathbf{a} = \\langle a_1, a_2, a_3 \\rangle, \\quad \\mathbf{b} = \\langle b_1, b_2, b_3 \\rangle$\n",
        "\n",
        "$$\\mathbf{a} \\cdot \\mathbf{b} = a_1 b_1 + a_2 b_2 + a_3 b_3$$\n"
      ],
      "metadata": {
        "id": "VO_HT0h0jxAg"
      }
    },
    {
      "cell_type": "code",
      "source": [
        "dot_product = np.dot(data_one, data_two)\n",
        "print(dot_product)\n"
      ],
      "metadata": {
        "colab": {
          "base_uri": "https://localhost:8080/"
        },
        "id": "9slJHoF7N_Ie",
        "outputId": "3d8cfa83-abeb-4a62-9614-affebef5ea96"
      },
      "execution_count": 9,
      "outputs": [
        {
          "output_type": "stream",
          "name": "stdout",
          "text": [
            "32\n"
          ]
        }
      ]
    },
    {
      "cell_type": "markdown",
      "source": [
        "2d data"
      ],
      "metadata": {
        "id": "fNd-LMvhQ0pV"
      }
    },
    {
      "cell_type": "code",
      "source": [
        "Data_one_2D = [[1, 2, 3],\n",
        "          [4, 5, 6],\n",
        "          [3, 2, 1]]\n",
        "\n",
        "\n",
        "Data_two_2D = [[10, 9, 8],\n",
        "          [7, 8, 9],\n",
        "          [10, 11, 12]]\n"
      ],
      "metadata": {
        "id": "t6stC5qFO7Wy"
      },
      "execution_count": 10,
      "outputs": []
    },
    {
      "cell_type": "code",
      "source": [
        "w = np.dot(Data_one_2D, Data_two_2D)\n",
        "\n",
        "print(w)"
      ],
      "metadata": {
        "colab": {
          "base_uri": "https://localhost:8080/"
        },
        "id": "YbDGJ8cMR24T",
        "outputId": "0bec8ab2-399a-41fc-e83b-e375b74bf249"
      },
      "execution_count": 11,
      "outputs": [
        {
          "output_type": "stream",
          "name": "stdout",
          "text": [
            "[[ 54  58  62]\n",
            " [135 142 149]\n",
            " [ 54  54  54]]\n"
          ]
        }
      ]
    },
    {
      "cell_type": "code",
      "source": [
        "Data_one_2D = [[1, 2],\n",
        "          [4, 5],\n",
        "]\n",
        "\n",
        "\n",
        "Data_two_2D = [[10, 9],\n",
        "          [7, 8],\n",
        "]\n",
        "\n",
        "\n",
        "w = np.dot(Data_one_2D, Data_two_2D)\n",
        "\n",
        "print(w)"
      ],
      "metadata": {
        "colab": {
          "base_uri": "https://localhost:8080/"
        },
        "id": "J58ueNwgTq23",
        "outputId": "8154f690-ec9c-424d-f004-a62389efc0e3"
      },
      "execution_count": 12,
      "outputs": [
        {
          "output_type": "stream",
          "name": "stdout",
          "text": [
            "[[24 25]\n",
            " [75 76]]\n"
          ]
        }
      ]
    },
    {
      "cell_type": "markdown",
      "source": [
        "$\n",
        "w[i, j] = \\sum_{k} \\text{Data_one_2D}[i, k] \\cdot \\text{Data_two_2D}[k, j]\n",
        "$\n"
      ],
      "metadata": {
        "id": "msYUoXd6UUBQ"
      }
    },
    {
      "cell_type": "markdown",
      "source": [
        "\n",
        "\n",
        "#### Row 1:\n",
        "\n",
        "$$\n",
        "w[0, 0] = (1 \\cdot 10) + (2 \\cdot 7) = 10 + 14 = 24\n",
        "$$\n",
        "$$\n",
        "w[0, 1] = (1 \\cdot 9) + (2 \\cdot 8) = 9 + 16 = 25\n",
        "$$\n",
        "\n",
        "#### Row 2:\n",
        "$$\n",
        "w[1, 0] = (4 \\cdot 10) + (5 \\cdot 7) = 40 + 35 = 75\n",
        "$$\n",
        "$$\n",
        "w[1, 1] = (4 \\cdot 9) + (5 \\cdot 8) = 36 + 40 = 76\n",
        "$$\n"
      ],
      "metadata": {
        "id": "Z9IubOF8XJxt"
      }
    }
  ]
}